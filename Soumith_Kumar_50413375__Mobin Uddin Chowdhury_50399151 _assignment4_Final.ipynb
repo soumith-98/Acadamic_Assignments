{
 "cells": [
  {
   "cell_type": "code",
   "execution_count": 1,
   "metadata": {},
   "outputs": [],
   "source": [
    "#\"I  certify that the code and data in this assignment were generated independently,\n",
    "#using only the tools and resources defined in the course and that I (we) did not receive\n",
    "#any external help, coaching or contributions during the production of this work.\""
   ]
  },
  {
   "cell_type": "code",
   "execution_count": 2,
   "metadata": {
    "colab": {
     "base_uri": "https://localhost:8080/"
    },
    "executionInfo": {
     "elapsed": 8976,
     "status": "ok",
     "timestamp": 1651380506435,
     "user": {
      "displayName": "Sai Shashank",
      "userId": "17959027855271518838"
     },
     "user_tz": 240
    },
    "id": "gJ2NIWY_VqBq",
    "outputId": "cdb27282-6b05-4b72-d102-6c5a4b4be06d"
   },
   "outputs": [
    {
     "name": "stdout",
     "output_type": "stream",
     "text": [
      "Requirement already satisfied: gym in c:\\users\\soumith\\anaconda3\\lib\\site-packages (0.23.1)\n",
      "Requirement already satisfied: cloudpickle>=1.2.0 in c:\\users\\soumith\\anaconda3\\lib\\site-packages (from gym) (2.0.0)\n",
      "Requirement already satisfied: gym-notices>=0.0.4 in c:\\users\\soumith\\anaconda3\\lib\\site-packages (from gym) (0.0.6)\n",
      "Requirement already satisfied: numpy>=1.18.0 in c:\\users\\soumith\\anaconda3\\lib\\site-packages (from gym) (1.22.3)\n",
      "Requirement already satisfied: importlib-metadata>=4.10.0; python_version < \"3.10\" in c:\\users\\soumith\\anaconda3\\lib\\site-packages (from gym) (4.11.3)\n",
      "Requirement already satisfied: zipp>=0.5 in c:\\users\\soumith\\anaconda3\\lib\\site-packages (from importlib-metadata>=4.10.0; python_version < \"3.10\"->gym) (3.4.0)\n"
     ]
    }
   ],
   "source": [
    "!pip install gym"
   ]
  },
  {
   "cell_type": "code",
   "execution_count": 3,
   "metadata": {
    "executionInfo": {
     "elapsed": 467,
     "status": "ok",
     "timestamp": 1651380506889,
     "user": {
      "displayName": "Sai Shashank",
      "userId": "17959027855271518838"
     },
     "user_tz": 240
    },
    "id": "9j4Qb7nU6RuC"
   },
   "outputs": [],
   "source": [
    "import numpy as np\n",
    "import matplotlib.pyplot as plt\n",
    "import gym\n",
    "from gym import spaces\n",
    "\n",
    "from abc import ABC, abstractmethod"
   ]
  },
  {
   "cell_type": "code",
   "execution_count": 4,
   "metadata": {
    "colab": {
     "base_uri": "https://localhost:8080/"
    },
    "executionInfo": {
     "elapsed": 184,
     "status": "ok",
     "timestamp": 1651380507069,
     "user": {
      "displayName": "Sai Shashank",
      "userId": "17959027855271518838"
     },
     "user_tz": 240
    },
    "id": "5q2ods0l6b-2",
    "outputId": "6c65a34c-f849-4e62-b527-90108d5be915"
   },
   "outputs": [
    {
     "name": "stdout",
     "output_type": "stream",
     "text": [
      "[[0. 0. 0. 0.]\n",
      " [0. 0. 0. 0.]\n",
      " [0. 0. 0. 0.]\n",
      " [0. 0. 0. 0.]]\n"
     ]
    },
    {
     "name": "stderr",
     "output_type": "stream",
     "text": [
      "C:\\Users\\Soumith\\anaconda3\\lib\\site-packages\\ipykernel\\ipkernel.py:287: DeprecationWarning: `should_run_async` will not call `transform_cell` automatically in the future. Please pass the result to `transformed_cell` argument and any exception that happen during thetransform in `preprocessing_exc_tuple` in IPython 7.17 and above.\n",
      "  and should_run_async(code)\n"
     ]
    }
   ],
   "source": [
    "grid = np.zeros((4, 4))\n",
    "print(grid)"
   ]
  },
  {
   "cell_type": "code",
   "execution_count": 5,
   "metadata": {
    "colab": {
     "base_uri": "https://localhost:8080/"
    },
    "executionInfo": {
     "elapsed": 10,
     "status": "ok",
     "timestamp": 1651380507070,
     "user": {
      "displayName": "Sai Shashank",
      "userId": "17959027855271518838"
     },
     "user_tz": 240
    },
    "id": "DuUnFoP26iA0",
    "outputId": "a2bf6b71-4ca1-4e43-951c-3e616f36b806"
   },
   "outputs": [
    {
     "name": "stdout",
     "output_type": "stream",
     "text": [
      "[[0.7 0.  0.7 0.5]\n",
      " [0.  0.  0.  0. ]\n",
      " [0.  0.  0.  0.3]\n",
      " [1.  0.  0.3 0. ]]\n"
     ]
    }
   ],
   "source": [
    "pos1 = [3, 0]\n",
    "pos2 = [0, 3]\n",
    "battery_1=[0,0]\n",
    "battery_2=[0,2]\n",
    "rock_1=[3,2]\n",
    "rock_2=[2,3]\n",
    "\n",
    "grid[tuple(pos1)] = 1\n",
    "grid[tuple(pos2)] = 0.5\n",
    "grid[tuple(battery_1)] = 0.7\n",
    "grid[tuple(battery_2)] = 0.7\n",
    "grid[tuple(rock_1)] = 0.3\n",
    "grid[tuple(rock_2)] = 0.3\n",
    "\n",
    "print(grid)"
   ]
  },
  {
   "cell_type": "code",
   "execution_count": 6,
   "metadata": {
    "colab": {
     "base_uri": "https://localhost:8080/",
     "height": 286
    },
    "executionInfo": {
     "elapsed": 160,
     "status": "ok",
     "timestamp": 1651380507223,
     "user": {
      "displayName": "Sai Shashank",
      "userId": "17959027855271518838"
     },
     "user_tz": 240
    },
    "id": "Dm-hGSkw6r82",
    "outputId": "b3fa3c7d-0356-4ea9-895d-72b8ef529bd6"
   },
   "outputs": [
    {
     "data": {
      "text/plain": [
       "<matplotlib.image.AxesImage at 0x2038a48b670>"
      ]
     },
     "execution_count": 6,
     "metadata": {},
     "output_type": "execute_result"
    },
    {
     "data": {
      "image/png": "[encoded data removed]",
      "text/plain": [
       "<Figure size 432x288 with 1 Axes>"
      ]
     },
     "metadata": {
      "needs_background": "light"
     },
     "output_type": "display_data"
    }
   ],
   "source": [
    "plt.imshow(grid)"
   ]
  },
  {
   "cell_type": "code",
   "execution_count": 7,
   "metadata": {
    "executionInfo": {
     "elapsed": 130,
     "status": "ok",
     "timestamp": 1651388686541,
     "user": {
      "displayName": "Sai Shashank",
      "userId": "17959027855271518838"
     },
     "user_tz": 240
    },
    "id": "UM3-Q6zv68Ib"
   },
   "outputs": [],
   "source": [
    "class GridEnvironment(gym.Env):\n",
    "    metadata = { 'render.modes': []}\n",
    "\n",
    "    def __init__(self):\n",
    "        self.observation_space = spaces.Box(0,4,shape=(400,400))\n",
    "        self.action_space = spaces.Discrete(4)\n",
    "        self.max_timesteps = 15\n",
    "        #self.visited=[]\n",
    "    \n",
    "\n",
    "    def reset(self):\n",
    "        self.timestep = 0\n",
    "        self.agent_pos = [0, 3]\n",
    "        self.goal_pos = [3, 0]\n",
    "        self.battery_1_pos=[0,0]\n",
    "        self.battery_2_pos=[0,2]\n",
    "        self.rock_1_pos=[3,2]\n",
    "        self.rock_2_pos=[2,3]\n",
    "        self.low=0\n",
    "        self.high=4\n",
    "        self.state = np.zeros((4, 4))\n",
    "        self.state[tuple(self.agent_pos)] = 1\n",
    "        self.state[tuple(self.goal_pos)] = 0.5\n",
    "        self.state[tuple(self.battery_1_pos)] = 0.7\n",
    "        self.state[tuple(self.battery_2_pos)] = 0.7\n",
    "        self.state[tuple(self.rock_1_pos)] = 0.3\n",
    "        self.state[tuple(self.rock_2_pos)] = 0.3\n",
    "        \n",
    "        self.rewards = {\n",
    "            tuple(self.battery_1_pos) : 0.5,\n",
    "            tuple(self.battery_2_pos) : 0.6,\n",
    "            tuple(self.rock_1_pos) : -0.5,\n",
    "            tuple(self.rock_2_pos) : -0.6,\n",
    "        }\n",
    "        \n",
    "        observation = self.state.flatten()\n",
    "        return tuple(self.agent_pos)\n",
    "    \n",
    "    def get_index(self, object_pos):\n",
    "        return object_pos[0] * self.action_space.n + object_pos[1]\n",
    "\n",
    "    def step(self, action):\n",
    "    #self.state = np.random.choice(self.observation_space.n)\n",
    "        flag=0\n",
    "        '''for i in self.visited:\n",
    "            print(i)\n",
    "            if functools.reduce(lambda x, y : x and y, map(lambda p, q: p == q,self.agent_pos,i), True):\n",
    "                flag=1\n",
    "                break'''\n",
    "        if  flag==0:\n",
    "            if action == 0:\n",
    "                self.agent_pos[0] += 1\n",
    "            elif action == 1 :\n",
    "                    self.agent_pos[0] -= 1\n",
    "            elif action == 2 :\n",
    "                self.agent_pos[1] += 1\n",
    "            elif action == 3:\n",
    "                self.agent_pos[1] -= 1\n",
    "        #print(self.agent_pos)\n",
    "        self.agent_pos = np.clip(self.agent_pos, 0, 3)\n",
    "        #self.visited.append(self.agent_pos)\n",
    "        self.state = np.zeros((4,4))\n",
    "        self.state[tuple(self.agent_pos)] = 1\n",
    "        self.state[tuple(self.goal_pos)] = 0.5\n",
    "        self.state[tuple(self.battery_1_pos)] = 0.7\n",
    "        self.state[tuple(self.battery_2_pos)] = 0.7\n",
    "        self.state[tuple(self.rock_1_pos)] = 0.3\n",
    "        self.state[tuple(self.rock_2_pos)] = 0.3\n",
    "        observation = self.state.flatten()\n",
    "        done = False\n",
    "        reward = 0\n",
    "        \n",
    "        '''if tuple(self.agent_pos) in self.rewards.keys():\n",
    "            ## Remove reward once it is claimed\n",
    "            reward = self.rewards.pop(tuple(self.agent_pos))\n",
    "            '''\n",
    "        \n",
    "        if (self.agent_pos == self.goal_pos).all():\n",
    "            done = True\n",
    "            reward = 1\n",
    "        else:\n",
    "            reward = -0.01\n",
    "            \n",
    "        self.timestep += 1\n",
    "        if self.timestep >= self.max_timesteps:\n",
    "            done = True\n",
    "        info = {}\n",
    "\n",
    "        return tuple(self.agent_pos), reward, done, info\n",
    "\n",
    "    def render(self):\n",
    "        plt.imshow(self.state)"
   ]
  },
  {
   "cell_type": "code",
   "execution_count": 8,
   "metadata": {
    "colab": {
     "base_uri": "https://localhost:8080/",
     "height": 269
    },
    "executionInfo": {
     "elapsed": 280,
     "status": "ok",
     "timestamp": 1651388687489,
     "user": {
      "displayName": "Sai Shashank",
      "userId": "17959027855271518838"
     },
     "user_tz": 240
    },
    "id": "8Rk7dsV99XZ2",
    "outputId": "ad7d2de6-ba19-4387-9f3b-bfbd857b2e7d"
   },
   "outputs": [
    {
     "data": {
      "image/png": "[encoded data removed]",
      "text/plain": [
       "<Figure size 432x288 with 1 Axes>"
      ]
     },
     "metadata": {
      "needs_background": "light"
     },
     "output_type": "display_data"
    }
   ],
   "source": [
    "env = GridEnvironment()\n",
    "obs = env.reset()\n",
    "env.render()"
   ]
  },
  {
   "cell_type": "code",
   "execution_count": 9,
   "metadata": {
    "colab": {
     "base_uri": "https://localhost:8080/",
     "height": 304
    },
    "executionInfo": {
     "elapsed": 352,
     "status": "ok",
     "timestamp": 1651388688525,
     "user": {
      "displayName": "Sai Shashank",
      "userId": "17959027855271518838"
     },
     "user_tz": 240
    },
    "id": "iYkVISkn9dJp",
    "outputId": "55e34fd0-fbe1-4776-8ccc-16f96e435687"
   },
   "outputs": [
    {
     "name": "stdout",
     "output_type": "stream",
     "text": [
      "observation:  (0, 3)\n",
      "Reward:  -0.01\n"
     ]
    },
    {
     "data": {
      "image/png": "[encoded data removed]",
      "text/plain": [
       "<Figure size 432x288 with 1 Axes>"
      ]
     },
     "metadata": {
      "needs_background": "light"
     },
     "output_type": "display_data"
    }
   ],
   "source": [
    "action = 1\n",
    "observation, reward, done, _ = env.step(action)\n",
    "env.render()\n",
    "print('observation: ', observation)\n",
    "print('Reward: ', reward)"
   ]
  },
  {
   "cell_type": "code",
   "execution_count": 10,
   "metadata": {
    "colab": {
     "base_uri": "https://localhost:8080/"
    },
    "executionInfo": {
     "elapsed": 387,
     "status": "ok",
     "timestamp": 1651388690722,
     "user": {
      "displayName": "Sai Shashank",
      "userId": "17959027855271518838"
     },
     "user_tz": 240
    },
    "id": "zXLT91H39pRX",
    "outputId": "bfde777f-d8df-4a90-b512-c41232122861"
   },
   "outputs": [
    {
     "name": "stdout",
     "output_type": "stream",
     "text": [
      "3\n",
      "Reward:  -0.01\n",
      "2\n",
      "Reward:  -0.01\n",
      "1\n",
      "Reward:  -0.01\n",
      "3\n",
      "Reward:  -0.01\n",
      "1\n",
      "Reward:  -0.01\n",
      "1\n",
      "Reward:  -0.01\n",
      "3\n",
      "Reward:  -0.01\n",
      "1\n",
      "Reward:  -0.01\n",
      "2\n",
      "Reward:  -0.01\n",
      "0\n",
      "Reward:  -0.01\n"
     ]
    },
    {
     "data": {
      "image/png": "[encoded data removed]",
      "text/plain": [
       "<Figure size 432x288 with 1 Axes>"
      ]
     },
     "metadata": {
      "needs_background": "light"
     },
     "output_type": "display_data"
    }
   ],
   "source": [
    "import random\n",
    "import time\n",
    "import functools \n",
    "for _ in range(10):\n",
    "    action=random.choice([0,1,2,3])\n",
    "    print(action)\n",
    "    observation, reward, done, _ = env.step(action)\n",
    "    \n",
    "    env.render()\n",
    "    print('Reward: ', reward)\n",
    "   \n",
    "\n"
   ]
  },
  {
   "cell_type": "code",
   "execution_count": 11,
   "metadata": {
    "colab": {
     "base_uri": "https://localhost:8080/",
     "height": 304
    },
    "executionInfo": {
     "elapsed": 269,
     "status": "ok",
     "timestamp": 1651388763851,
     "user": {
      "displayName": "Sai Shashank",
      "userId": "17959027855271518838"
     },
     "user_tz": 240
    },
    "id": "K46b4X8yIvDd",
    "outputId": "8fe50cd8-bd77-40c0-cf6b-7b5432171368"
   },
   "outputs": [
    {
     "data": {
      "image/png": "[encoded data removed]",
      "text/plain": [
       "<Figure size 432x288 with 1 Axes>"
      ]
     },
     "metadata": {
      "needs_background": "light"
     },
     "output_type": "display_data"
    }
   ],
   "source": [
    "observation, reward, done, _ = env.step(3)\n",
    "env.render()\n"
   ]
  },
  {
   "cell_type": "code",
   "execution_count": 12,
   "metadata": {
    "id": "nG_zeBfCU3Ps"
   },
   "outputs": [],
   "source": [
    "class LearningAgent(ABC):\n",
    "    \n",
    "    def __init__(self, env, max_iter):\n",
    "        self.env = env\n",
    "        self.max_iter = max_iter\n",
    "        self.min_prob = 0.01\n",
    "        self.decay_rate = 4/self.max_iter\n",
    "        \n",
    "    ## Epsilon decay\n",
    "    def calculate_eps(self, i):\n",
    "        return max(self.min_prob, np.exp(-i * self.decay_rate))\n",
    "        \n",
    "    @abstractmethod\n",
    "    def step(self, agent_pos, eps):\n",
    "        pass\n",
    "    "
   ]
  },
  {
   "cell_type": "code",
   "execution_count": 13,
   "metadata": {},
   "outputs": [],
   "source": [
    "class SARSALearningAgent(LearningAgent):\n",
    "    \n",
    "    def __init__(self, env, max_iter):\n",
    "        super().__init__(env, max_iter)\n",
    "        self.q_val = np.zeros((16,4))\n",
    "        \n",
    "    def step(self, agent_pos, eps):\n",
    "        p = np.random.random()\n",
    "        if p < eps:\n",
    "            action = np.random.choice(self.env.action_space.n)\n",
    "        else:\n",
    "            action = np.argmax(self.q_val[self.env.get_index(agent_pos)])\n",
    "        return action\n",
    "    \n",
    "    def get_max_iter(self):\n",
    "        return self.max_iter\n",
    "    \n",
    "    def get_q_val(self):\n",
    "        return self.q_val\n",
    "    \n",
    "    # Update Q-matrix\n",
    "    def update_q_val(self, agent_pos, action, eps, alpha = 0.1, gamma = 1):\n",
    "        done = False\n",
    "        rew  = 0\n",
    "        while not done:\n",
    "            updt_agent_pos, reward, done, _ = env.step(action)\n",
    "            i = self.env.get_index(agent_pos) \n",
    "            i_updt = self.env.get_index(updt_agent_pos)\n",
    "            new_action = self.step(updt_agent_pos, eps)\n",
    "            #print(agent_pos, action, updt_agent_pos, reward, done)\n",
    "            #print(i, action, i_updt, new_action, done)\n",
    "            self.q_val[i, action] += alpha * (reward + gamma*self.q_val[i_updt, new_action] - self.q_val[i, action])\n",
    "            action = new_action\n",
    "            agent_pos = updt_agent_pos\n",
    "            rew += reward\n",
    "        return rew\n",
    "    \n",
    "    def get_optimal_action(self, pos):\n",
    "        return np.argmax(self.q_val[self.env.get_index(pos)])"
   ]
  },
  {
   "cell_type": "code",
   "execution_count": 14,
   "metadata": {},
   "outputs": [],
   "source": [
    "def train_learning(env, agent, reward_decay):\n",
    "    total_rewards = []\n",
    "    eps_decay = []\n",
    "    for i in range(agent.get_max_iter()):\n",
    "        agent_pos = env.reset()\n",
    "        done = False\n",
    "        eps = agent.calculate_eps(i)\n",
    "        action = agent.step(agent_pos, eps)\n",
    "        rew = agent.update_q_val(agent_pos, action, eps, gamma = reward_decay)\n",
    "        total_rewards.append(rew)\n",
    "        eps_decay.append(eps)\n",
    "    return total_rewards, eps_decay"
   ]
  },
  {
   "cell_type": "code",
   "execution_count": 15,
   "metadata": {},
   "outputs": [],
   "source": [
    "env = GridEnvironment()\n",
    "    \n",
    "reward_decay = 0.95\n",
    "max_iter = 200\n",
    "agent = SARSALearningAgent(env, max_iter)\n",
    "rew, eps = train_learning(env, agent, reward_decay)"
   ]
  },
  {
   "cell_type": "code",
   "execution_count": 16,
   "metadata": {},
   "outputs": [
    {
     "data": {
      "image/png": "[encoded data removed]",
      "text/plain": [
       "<Figure size 432x288 with 1 Axes>"
      ]
     },
     "metadata": {
      "needs_background": "light"
     },
     "output_type": "display_data"
    }
   ],
   "source": [
    "x = np.linspace(1, max_iter, max_iter) \n",
    "fig = plt.figure() \n",
    "plt.plot(x, rew)\n",
    "plt.ylabel(\"Reward per Episode\")\n",
    "plt.xlabel(\"Number of Episodes\")\n",
    "plt.show()"
   ]
  },
  {
   "cell_type": "code",
   "execution_count": 17,
   "metadata": {},
   "outputs": [
    {
     "name": "stderr",
     "output_type": "stream",
     "text": [
      "C:\\Users\\Soumith\\anaconda3\\lib\\site-packages\\ipykernel\\ipkernel.py:287: DeprecationWarning: `should_run_async` will not call `transform_cell` automatically in the future. Please pass the result to `transformed_cell` argument and any exception that happen during thetransform in `preprocessing_exc_tuple` in IPython 7.17 and above.\n",
      "  and should_run_async(code)\n"
     ]
    },
    {
     "data": {
      "image/png": "[encoded data removed]",
      "text/plain": [
       "<Figure size 432x288 with 1 Axes>"
      ]
     },
     "metadata": {
      "needs_background": "light"
     },
     "output_type": "display_data"
    }
   ],
   "source": [
    "fig = plt.figure() \n",
    "plt.plot(x, eps)\n",
    "plt.ylabel(\"Epsilon Decay\")\n",
    "plt.xlabel(\"Number of Episodes\")\n",
    "plt.show()"
   ]
  },
  {
   "cell_type": "code",
   "execution_count": 18,
   "metadata": {},
   "outputs": [
    {
     "name": "stderr",
     "output_type": "stream",
     "text": [
      "C:\\Users\\Soumith\\anaconda3\\lib\\site-packages\\ipykernel\\ipkernel.py:287: DeprecationWarning: `should_run_async` will not call `transform_cell` automatically in the future. Please pass the result to `transformed_cell` argument and any exception that happen during thetransform in `preprocessing_exc_tuple` in IPython 7.17 and above.\n",
      "  and should_run_async(code)\n"
     ]
    }
   ],
   "source": [
    "def use_optimal_learning(env, agent, episodes):    \n",
    "    rewards = []\n",
    "    steps = []\n",
    "    for i in range(episodes):\n",
    "        agent_pos = env.reset()\n",
    "        done = False\n",
    "        episode_reward = 0\n",
    "        step_count = 0\n",
    "        while not done:\n",
    "            optimal_action = agent.get_optimal_action(agent_pos)\n",
    "            agent_pos, reward, done, _ = env.step(optimal_action)\n",
    "            episode_reward += reward\n",
    "            step_count += 1\n",
    "        rewards.append(episode_reward)\n",
    "        steps.append(step_count)\n",
    "    return rewards, steps"
   ]
  },
  {
   "cell_type": "code",
   "execution_count": 19,
   "metadata": {},
   "outputs": [
    {
     "data": {
      "image/png": "[encoded data removed]",
      "text/plain": [
       "<Figure size 432x288 with 1 Axes>"
      ]
     },
     "metadata": {
      "needs_background": "light"
     },
     "output_type": "display_data"
    }
   ],
   "source": [
    "episodes = 10\n",
    "\n",
    "episode_rewards, steps = use_optimal_learning(env, agent, episodes)\n",
    "\n",
    "x_episodes = np.linspace(1, episodes, episodes)\n",
    "\n",
    "fig = plt.figure() \n",
    "plt.plot(x_episodes, episode_rewards)\n",
    "plt.ylabel(\"Reward per Episode\")\n",
    "plt.xlabel(\"Number of Episodes\")\n",
    "plt.show()"
   ]
  },
  {
   "cell_type": "code",
   "execution_count": null,
   "metadata": {},
   "outputs": [],
   "source": []
  },
  {
   "cell_type": "code",
   "execution_count": null,
   "metadata": {},
   "outputs": [],
   "source": []
  }
 ],
 "metadata": {
  "colab": {
   "name": "rl.ipynb",
   "provenance": []
  },
  "kernelspec": {
   "display_name": "Python 3",
   "language": "python",
   "name": "python3"
  },
  "language_info": {
   "codemirror_mode": {
    "name": "ipython",
    "version": 3
   },
   "file_extension": ".py",
   "mimetype": "text/x-python",
   "name": "python",
   "nbconvert_exporter": "python",
   "pygments_lexer": "ipython3",
   "version": "3.8.5"
  }
 },
 "nbformat": 4,
 "nbformat_minor": 1
}
