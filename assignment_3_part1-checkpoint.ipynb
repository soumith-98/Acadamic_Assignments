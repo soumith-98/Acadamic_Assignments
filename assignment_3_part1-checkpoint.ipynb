{
 "cells": [
  {
   "cell_type": "code",
   "execution_count": 1,
   "metadata": {
    "id": "Tur8-BMdEpaC"
   },
   "outputs": [],
   "source": [
    "import pandas as pd\n",
    "import numpy as np\n",
    "from tensorflow import feature_column\n",
    "import tensorflow as tf\n",
    "from tensorflow import feature_column\n",
    "from tensorflow.keras import layers"
   ]
  },
  {
   "cell_type": "code",
   "execution_count": null,
   "metadata": {
    "id": "CiPETL52iJBr"
   },
   "outputs": [],
   "source": []
  },
  {
   "cell_type": "code",
   "execution_count": 2,
   "metadata": {
    "id": "8L6nzTSwEunP"
   },
   "outputs": [],
   "source": [
    "df=pd.read_csv('income_dataset.csv')"
   ]
  },
  {
   "cell_type": "code",
   "execution_count": 3,
   "metadata": {
    "colab": {
     "base_uri": "https://localhost:8080/"
    },
    "id": "hnEjc_mgEym0",
    "outputId": "1478b234-42f0-43f5-fb31-abadc9442edc"
   },
   "outputs": [
    {
     "data": {
      "text/plain": [
       "age               0\n",
       "workclass         0\n",
       "fnlwgt            1\n",
       "education         0\n",
       "education.num     0\n",
       "marital.status    0\n",
       "occupation        0\n",
       "relationship      0\n",
       "capital.gain      0\n",
       "capital.loss      0\n",
       "hours.per.week    0\n",
       "native.country    0\n",
       "income            0\n",
       "dtype: int64"
      ]
     },
     "execution_count": 3,
     "metadata": {},
     "output_type": "execute_result"
    }
   ],
   "source": [
    "df.isnull().sum()"
   ]
  },
  {
   "cell_type": "code",
   "execution_count": 4,
   "metadata": {
    "id": "JFERgiBjFDID"
   },
   "outputs": [],
   "source": [
    "df=df.dropna()\n"
   ]
  },
  {
   "cell_type": "code",
   "execution_count": null,
   "metadata": {
    "id": "nlen5-t6Vfx6"
   },
   "outputs": [],
   "source": []
  },
  {
   "cell_type": "code",
   "execution_count": 5,
   "metadata": {
    "colab": {
     "base_uri": "https://localhost:8080/"
    },
    "id": "DunzFysUE0SB",
    "outputId": "277cf5ad-bb7d-4996-c364-b855715b4ba1"
   },
   "outputs": [
    {
     "data": {
      "text/plain": [
       "age               0\n",
       "workclass         0\n",
       "fnlwgt            0\n",
       "education         0\n",
       "education.num     0\n",
       "marital.status    0\n",
       "occupation        0\n",
       "relationship      0\n",
       "capital.gain      0\n",
       "capital.loss      0\n",
       "hours.per.week    0\n",
       "native.country    0\n",
       "income            0\n",
       "dtype: int64"
      ]
     },
     "execution_count": 5,
     "metadata": {},
     "output_type": "execute_result"
    }
   ],
   "source": [
    "df.isnull().sum()"
   ]
  },
  {
   "cell_type": "code",
   "execution_count": 6,
   "metadata": {
    "colab": {
     "base_uri": "https://localhost:8080/",
     "height": 175
    },
    "id": "fVZvBLcdE5lo",
    "outputId": "5aab7f69-0fcf-4dda-aace-4814bc327cf2"
   },
   "outputs": [
    {
     "data": {
      "text/html": [
       "<div>\n",
       "<style scoped>\n",
       "    .dataframe tbody tr th:only-of-type {\n",
       "        vertical-align: middle;\n",
       "    }\n",
       "\n",
       "    .dataframe tbody tr th {\n",
       "        vertical-align: top;\n",
       "    }\n",
       "\n",
       "    .dataframe thead th {\n",
       "        text-align: right;\n",
       "    }\n",
       "</style>\n",
       "<table border=\"1\" class=\"dataframe\">\n",
       "  <thead>\n",
       "    <tr style=\"text-align: right;\">\n",
       "      <th></th>\n",
       "      <th>age</th>\n",
       "      <th>workclass</th>\n",
       "      <th>fnlwgt</th>\n",
       "      <th>education</th>\n",
       "      <th>education.num</th>\n",
       "      <th>marital.status</th>\n",
       "      <th>occupation</th>\n",
       "      <th>relationship</th>\n",
       "      <th>capital.gain</th>\n",
       "      <th>capital.loss</th>\n",
       "      <th>hours.per.week</th>\n",
       "      <th>native.country</th>\n",
       "      <th>income</th>\n",
       "    </tr>\n",
       "  </thead>\n",
       "  <tbody>\n",
       "    <tr>\n",
       "      <th>0</th>\n",
       "      <td>90</td>\n",
       "      <td>?</td>\n",
       "      <td>77053.0</td>\n",
       "      <td>HS-grad</td>\n",
       "      <td>9</td>\n",
       "      <td>Widowed</td>\n",
       "      <td>?</td>\n",
       "      <td>Not-in-family</td>\n",
       "      <td>0</td>\n",
       "      <td>4356</td>\n",
       "      <td>40</td>\n",
       "      <td>United-States</td>\n",
       "      <td>0</td>\n",
       "    </tr>\n",
       "    <tr>\n",
       "      <th>1</th>\n",
       "      <td>82</td>\n",
       "      <td>Private</td>\n",
       "      <td>186061.0</td>\n",
       "      <td>HS-grad</td>\n",
       "      <td>9</td>\n",
       "      <td>Widowed</td>\n",
       "      <td>Exec-managerial</td>\n",
       "      <td>Not-in-family</td>\n",
       "      <td>0</td>\n",
       "      <td>4356</td>\n",
       "      <td>18</td>\n",
       "      <td>United-States</td>\n",
       "      <td>0</td>\n",
       "    </tr>\n",
       "    <tr>\n",
       "      <th>3</th>\n",
       "      <td>54</td>\n",
       "      <td>Private</td>\n",
       "      <td>140359.0</td>\n",
       "      <td>7th-8th</td>\n",
       "      <td>4</td>\n",
       "      <td>Divorced</td>\n",
       "      <td>Machine-op-inspct</td>\n",
       "      <td>Unmarried</td>\n",
       "      <td>0</td>\n",
       "      <td>3900</td>\n",
       "      <td>40</td>\n",
       "      <td>United-States</td>\n",
       "      <td>0</td>\n",
       "    </tr>\n",
       "    <tr>\n",
       "      <th>4</th>\n",
       "      <td>41</td>\n",
       "      <td>Private</td>\n",
       "      <td>264663.0</td>\n",
       "      <td>Some-college</td>\n",
       "      <td>10</td>\n",
       "      <td>Separated</td>\n",
       "      <td>Prof-specialty</td>\n",
       "      <td>Own-child</td>\n",
       "      <td>0</td>\n",
       "      <td>3900</td>\n",
       "      <td>40</td>\n",
       "      <td>United-States</td>\n",
       "      <td>0</td>\n",
       "    </tr>\n",
       "  </tbody>\n",
       "</table>\n",
       "</div>"
      ],
      "text/plain": [
       "   age workclass    fnlwgt     education  education.num marital.status  \\\n",
       "0   90         ?   77053.0       HS-grad              9        Widowed   \n",
       "1   82   Private  186061.0       HS-grad              9        Widowed   \n",
       "3   54   Private  140359.0       7th-8th              4       Divorced   \n",
       "4   41   Private  264663.0  Some-college             10      Separated   \n",
       "\n",
       "          occupation   relationship  capital.gain  capital.loss  \\\n",
       "0                  ?  Not-in-family             0          4356   \n",
       "1    Exec-managerial  Not-in-family             0          4356   \n",
       "3  Machine-op-inspct      Unmarried             0          3900   \n",
       "4     Prof-specialty      Own-child             0          3900   \n",
       "\n",
       "   hours.per.week native.country  income  \n",
       "0              40  United-States       0  \n",
       "1              18  United-States       0  \n",
       "3              40  United-States       0  \n",
       "4              40  United-States       0  "
      ]
     },
     "execution_count": 6,
     "metadata": {},
     "output_type": "execute_result"
    }
   ],
   "source": [
    "df['income']=df['income'].map({'<=50K': 0, '>50K': 1, '<=50K.': 0, '>50K.': 1})\n",
    "df.head(4)"
   ]
  },
  {
   "cell_type": "code",
   "execution_count": 7,
   "metadata": {
    "colab": {
     "base_uri": "https://localhost:8080/"
    },
    "id": "uZ2DKEA_FVoN",
    "outputId": "1a872fc9-4974-4f0a-9225-440a23b58aa3"
   },
   "outputs": [
    {
     "data": {
      "text/plain": [
       "age               0\n",
       "workclass         0\n",
       "fnlwgt            0\n",
       "education         0\n",
       "education.num     0\n",
       "marital.status    0\n",
       "occupation        0\n",
       "relationship      0\n",
       "capital.gain      0\n",
       "capital.loss      0\n",
       "hours.per.week    0\n",
       "native.country    0\n",
       "income            0\n",
       "dtype: int64"
      ]
     },
     "execution_count": 7,
     "metadata": {},
     "output_type": "execute_result"
    }
   ],
   "source": [
    "df[\"workclass\"] = df[\"workclass\"].fillna(\"X\")\n",
    "df[\"occupation\"] = df[\"occupation\"].fillna(\"X\")\n",
    "df[\"native.country\"] = df[\"native.country\"].fillna(\"United-States\")\n",
    "\n",
    "# Confirm All Missing Data is Handled\n",
    "df.isnull().sum()"
   ]
  },
  {
   "cell_type": "code",
   "execution_count": 8,
   "metadata": {
    "id": "mfMZT3ryFbpc"
   },
   "outputs": [],
   "source": [
    "\n",
    "df[\"marital.status\"] = df[\"marital.status\"].replace(['Never-married','Divorced','Separated','Widowed'], 'Single')\n",
    "df[\"marital.status\"] = df[\"marital.status\"].replace(['Married-civ-spouse','Married-spouse-absent','Married-AF-spouse'], 'Married')\n",
    "df[\"marital.status\"] = df[\"marital.status\"].map({\"Married\":1, \"Single\":0})\n",
    "df[\"marital.status\"] = df[\"marital.status\"].astype(int)"
   ]
  },
  {
   "cell_type": "code",
   "execution_count": 9,
   "metadata": {
    "id": "tj4Etb9yFgOw"
   },
   "outputs": [],
   "source": [
    "numeric_features = ['age','fnlwgt','education.num','capital.gain','capital.loss','hours.per.week','marital.status']\n",
    "\n",
    "# Identify Categorical features\n",
    "cat_features = ['education', 'relationship', 'native.country']"
   ]
  },
  {
   "cell_type": "code",
   "execution_count": 10,
   "metadata": {
    "id": "AL2o2PJfFmjk"
   },
   "outputs": [],
   "source": [
    "train,test=df[0:26048], df[26048:]\n",
    "train,val=df[:20838],df[20838:]"
   ]
  },
  {
   "cell_type": "code",
   "execution_count": 11,
   "metadata": {
    "colab": {
     "base_uri": "https://localhost:8080/"
    },
    "id": "Tdy6AygXF8QS",
    "outputId": "58b9b68c-ac7a-437f-dfdb-3e38e74c3d9f"
   },
   "outputs": [
    {
     "data": {
      "text/plain": [
       "[NumericColumn(key='age', shape=(1,), default_value=None, dtype=tf.float32, normalizer_fn=None),\n",
       " NumericColumn(key='fnlwgt', shape=(1,), default_value=None, dtype=tf.float32, normalizer_fn=None),\n",
       " NumericColumn(key='education.num', shape=(1,), default_value=None, dtype=tf.float32, normalizer_fn=None),\n",
       " NumericColumn(key='capital.gain', shape=(1,), default_value=None, dtype=tf.float32, normalizer_fn=None),\n",
       " NumericColumn(key='capital.loss', shape=(1,), default_value=None, dtype=tf.float32, normalizer_fn=None),\n",
       " NumericColumn(key='hours.per.week', shape=(1,), default_value=None, dtype=tf.float32, normalizer_fn=None),\n",
       " NumericColumn(key='marital.status', shape=(1,), default_value=None, dtype=tf.float32, normalizer_fn=None)]"
      ]
     },
     "execution_count": 11,
     "metadata": {},
     "output_type": "execute_result"
    }
   ],
   "source": [
    "feature_columns = []\n",
    "\n",
    "# numeric cols\n",
    "for header in numeric_features:\n",
    "  feature_columns.append(feature_column.numeric_column(header))\n",
    "\n",
    "feature_columns"
   ]
  },
  {
   "cell_type": "code",
   "execution_count": 12,
   "metadata": {
    "colab": {
     "base_uri": "https://localhost:8080/",
     "height": 206
    },
    "id": "u5_kaP8vGCvk",
    "outputId": "83e7beb1-c4eb-4e9b-f89c-d04dc14a1553"
   },
   "outputs": [
    {
     "data": {
      "text/html": [
       "<div>\n",
       "<style scoped>\n",
       "    .dataframe tbody tr th:only-of-type {\n",
       "        vertical-align: middle;\n",
       "    }\n",
       "\n",
       "    .dataframe tbody tr th {\n",
       "        vertical-align: top;\n",
       "    }\n",
       "\n",
       "    .dataframe thead th {\n",
       "        text-align: right;\n",
       "    }\n",
       "</style>\n",
       "<table border=\"1\" class=\"dataframe\">\n",
       "  <thead>\n",
       "    <tr style=\"text-align: right;\">\n",
       "      <th></th>\n",
       "      <th>age</th>\n",
       "      <th>workclass</th>\n",
       "      <th>fnlwgt</th>\n",
       "      <th>education</th>\n",
       "      <th>education.num</th>\n",
       "      <th>marital.status</th>\n",
       "      <th>occupation</th>\n",
       "      <th>relationship</th>\n",
       "      <th>capital.gain</th>\n",
       "      <th>capital.loss</th>\n",
       "      <th>hours.per.week</th>\n",
       "      <th>native.country</th>\n",
       "      <th>income</th>\n",
       "    </tr>\n",
       "  </thead>\n",
       "  <tbody>\n",
       "    <tr>\n",
       "      <th>0</th>\n",
       "      <td>90</td>\n",
       "      <td>?</td>\n",
       "      <td>77053.0</td>\n",
       "      <td>HS-grad</td>\n",
       "      <td>9</td>\n",
       "      <td>0</td>\n",
       "      <td>?</td>\n",
       "      <td>Not-in-family</td>\n",
       "      <td>0</td>\n",
       "      <td>4356</td>\n",
       "      <td>40</td>\n",
       "      <td>United-States</td>\n",
       "      <td>0</td>\n",
       "    </tr>\n",
       "    <tr>\n",
       "      <th>1</th>\n",
       "      <td>82</td>\n",
       "      <td>Private</td>\n",
       "      <td>186061.0</td>\n",
       "      <td>HS-grad</td>\n",
       "      <td>9</td>\n",
       "      <td>0</td>\n",
       "      <td>Exec-managerial</td>\n",
       "      <td>Not-in-family</td>\n",
       "      <td>0</td>\n",
       "      <td>4356</td>\n",
       "      <td>18</td>\n",
       "      <td>United-States</td>\n",
       "      <td>0</td>\n",
       "    </tr>\n",
       "    <tr>\n",
       "      <th>3</th>\n",
       "      <td>54</td>\n",
       "      <td>Private</td>\n",
       "      <td>140359.0</td>\n",
       "      <td>7th-8th</td>\n",
       "      <td>4</td>\n",
       "      <td>0</td>\n",
       "      <td>Machine-op-inspct</td>\n",
       "      <td>Unmarried</td>\n",
       "      <td>0</td>\n",
       "      <td>3900</td>\n",
       "      <td>40</td>\n",
       "      <td>United-States</td>\n",
       "      <td>0</td>\n",
       "    </tr>\n",
       "    <tr>\n",
       "      <th>4</th>\n",
       "      <td>41</td>\n",
       "      <td>Private</td>\n",
       "      <td>264663.0</td>\n",
       "      <td>Some-college</td>\n",
       "      <td>10</td>\n",
       "      <td>0</td>\n",
       "      <td>Prof-specialty</td>\n",
       "      <td>Own-child</td>\n",
       "      <td>0</td>\n",
       "      <td>3900</td>\n",
       "      <td>40</td>\n",
       "      <td>United-States</td>\n",
       "      <td>0</td>\n",
       "    </tr>\n",
       "    <tr>\n",
       "      <th>5</th>\n",
       "      <td>34</td>\n",
       "      <td>Private</td>\n",
       "      <td>216864.0</td>\n",
       "      <td>HS-grad</td>\n",
       "      <td>9</td>\n",
       "      <td>0</td>\n",
       "      <td>Other-service</td>\n",
       "      <td>Unmarried</td>\n",
       "      <td>0</td>\n",
       "      <td>3770</td>\n",
       "      <td>45</td>\n",
       "      <td>United-States</td>\n",
       "      <td>0</td>\n",
       "    </tr>\n",
       "  </tbody>\n",
       "</table>\n",
       "</div>"
      ],
      "text/plain": [
       "   age workclass    fnlwgt     education  education.num  marital.status  \\\n",
       "0   90         ?   77053.0       HS-grad              9               0   \n",
       "1   82   Private  186061.0       HS-grad              9               0   \n",
       "3   54   Private  140359.0       7th-8th              4               0   \n",
       "4   41   Private  264663.0  Some-college             10               0   \n",
       "5   34   Private  216864.0       HS-grad              9               0   \n",
       "\n",
       "          occupation   relationship  capital.gain  capital.loss  \\\n",
       "0                  ?  Not-in-family             0          4356   \n",
       "1    Exec-managerial  Not-in-family             0          4356   \n",
       "3  Machine-op-inspct      Unmarried             0          3900   \n",
       "4     Prof-specialty      Own-child             0          3900   \n",
       "5      Other-service      Unmarried             0          3770   \n",
       "\n",
       "   hours.per.week native.country  income  \n",
       "0              40  United-States       0  \n",
       "1              18  United-States       0  \n",
       "3              40  United-States       0  \n",
       "4              40  United-States       0  \n",
       "5              45  United-States       0  "
      ]
     },
     "execution_count": 12,
     "metadata": {},
     "output_type": "execute_result"
    }
   ],
   "source": [
    "df.head()"
   ]
  },
  {
   "cell_type": "code",
   "execution_count": 13,
   "metadata": {
    "colab": {
     "base_uri": "https://localhost:8080/",
     "height": 206
    },
    "id": "oKyD37g2GEpQ",
    "outputId": "675089e9-4c8d-4168-9ac8-18c4d3ac52c0"
   },
   "outputs": [
    {
     "data": {
      "text/html": [
       "<div>\n",
       "<style scoped>\n",
       "    .dataframe tbody tr th:only-of-type {\n",
       "        vertical-align: middle;\n",
       "    }\n",
       "\n",
       "    .dataframe tbody tr th {\n",
       "        vertical-align: top;\n",
       "    }\n",
       "\n",
       "    .dataframe thead th {\n",
       "        text-align: right;\n",
       "    }\n",
       "</style>\n",
       "<table border=\"1\" class=\"dataframe\">\n",
       "  <thead>\n",
       "    <tr style=\"text-align: right;\">\n",
       "      <th></th>\n",
       "      <th>age</th>\n",
       "      <th>workclass</th>\n",
       "      <th>fnlwgt</th>\n",
       "      <th>education</th>\n",
       "      <th>education.num</th>\n",
       "      <th>marital.status</th>\n",
       "      <th>occupation</th>\n",
       "      <th>relationship</th>\n",
       "      <th>capital.gain</th>\n",
       "      <th>capital.loss</th>\n",
       "      <th>hours.per.week</th>\n",
       "      <th>native.country</th>\n",
       "      <th>income</th>\n",
       "    </tr>\n",
       "  </thead>\n",
       "  <tbody>\n",
       "    <tr>\n",
       "      <th>0</th>\n",
       "      <td>90</td>\n",
       "      <td>X</td>\n",
       "      <td>77053.0</td>\n",
       "      <td>HS-grad</td>\n",
       "      <td>9</td>\n",
       "      <td>0</td>\n",
       "      <td>X</td>\n",
       "      <td>Not-in-family</td>\n",
       "      <td>0</td>\n",
       "      <td>4356</td>\n",
       "      <td>40</td>\n",
       "      <td>United-States</td>\n",
       "      <td>0</td>\n",
       "    </tr>\n",
       "    <tr>\n",
       "      <th>1</th>\n",
       "      <td>82</td>\n",
       "      <td>Private</td>\n",
       "      <td>186061.0</td>\n",
       "      <td>HS-grad</td>\n",
       "      <td>9</td>\n",
       "      <td>0</td>\n",
       "      <td>Exec-managerial</td>\n",
       "      <td>Not-in-family</td>\n",
       "      <td>0</td>\n",
       "      <td>4356</td>\n",
       "      <td>18</td>\n",
       "      <td>United-States</td>\n",
       "      <td>0</td>\n",
       "    </tr>\n",
       "    <tr>\n",
       "      <th>3</th>\n",
       "      <td>54</td>\n",
       "      <td>Private</td>\n",
       "      <td>140359.0</td>\n",
       "      <td>7th-8th</td>\n",
       "      <td>4</td>\n",
       "      <td>0</td>\n",
       "      <td>Machine-op-inspct</td>\n",
       "      <td>Unmarried</td>\n",
       "      <td>0</td>\n",
       "      <td>3900</td>\n",
       "      <td>40</td>\n",
       "      <td>United-States</td>\n",
       "      <td>0</td>\n",
       "    </tr>\n",
       "    <tr>\n",
       "      <th>4</th>\n",
       "      <td>41</td>\n",
       "      <td>Private</td>\n",
       "      <td>264663.0</td>\n",
       "      <td>Some-college</td>\n",
       "      <td>10</td>\n",
       "      <td>0</td>\n",
       "      <td>Prof-specialty</td>\n",
       "      <td>Own-child</td>\n",
       "      <td>0</td>\n",
       "      <td>3900</td>\n",
       "      <td>40</td>\n",
       "      <td>United-States</td>\n",
       "      <td>0</td>\n",
       "    </tr>\n",
       "    <tr>\n",
       "      <th>5</th>\n",
       "      <td>34</td>\n",
       "      <td>Private</td>\n",
       "      <td>216864.0</td>\n",
       "      <td>HS-grad</td>\n",
       "      <td>9</td>\n",
       "      <td>0</td>\n",
       "      <td>Other-service</td>\n",
       "      <td>Unmarried</td>\n",
       "      <td>0</td>\n",
       "      <td>3770</td>\n",
       "      <td>45</td>\n",
       "      <td>United-States</td>\n",
       "      <td>0</td>\n",
       "    </tr>\n",
       "  </tbody>\n",
       "</table>\n",
       "</div>"
      ],
      "text/plain": [
       "   age workclass    fnlwgt     education  education.num  marital.status  \\\n",
       "0   90         X   77053.0       HS-grad              9               0   \n",
       "1   82   Private  186061.0       HS-grad              9               0   \n",
       "3   54   Private  140359.0       7th-8th              4               0   \n",
       "4   41   Private  264663.0  Some-college             10               0   \n",
       "5   34   Private  216864.0       HS-grad              9               0   \n",
       "\n",
       "          occupation   relationship  capital.gain  capital.loss  \\\n",
       "0                  X  Not-in-family             0          4356   \n",
       "1    Exec-managerial  Not-in-family             0          4356   \n",
       "3  Machine-op-inspct      Unmarried             0          3900   \n",
       "4     Prof-specialty      Own-child             0          3900   \n",
       "5      Other-service      Unmarried             0          3770   \n",
       "\n",
       "   hours.per.week native.country  income  \n",
       "0              40  United-States       0  \n",
       "1              18  United-States       0  \n",
       "3              40  United-States       0  \n",
       "4              40  United-States       0  \n",
       "5              45  United-States       0  "
      ]
     },
     "execution_count": 13,
     "metadata": {},
     "output_type": "execute_result"
    }
   ],
   "source": [
    "df[\"workclass\"] = df[\"workclass\"].replace('?', 'X')\n",
    "df[\"occupation\"] = df[\"occupation\"].replace('?', 'X')\n",
    "df.head()"
   ]
  },
  {
   "cell_type": "code",
   "execution_count": 14,
   "metadata": {
    "colab": {
     "base_uri": "https://localhost:8080/"
    },
    "id": "SQ_cq8b-GIhS",
    "outputId": "b2191704-8115-48da-eec7-84ae209a3ee2"
   },
   "outputs": [
    {
     "name": "stdout",
     "output_type": "stream",
     "text": [
      "Dataset with Dropped Labels\n",
      "   age    fnlwgt     education  education.num  marital.status   relationship  \\\n",
      "0   90   77053.0       HS-grad              9               0  Not-in-family   \n",
      "1   82  186061.0       HS-grad              9               0  Not-in-family   \n",
      "3   54  140359.0       7th-8th              4               0      Unmarried   \n",
      "4   41  264663.0  Some-college             10               0      Own-child   \n",
      "5   34  216864.0       HS-grad              9               0      Unmarried   \n",
      "\n",
      "   capital.gain  capital.loss  hours.per.week native.country  income  \n",
      "0             0          4356              40  United-States       0  \n",
      "1             0          4356              18  United-States       0  \n",
      "3             0          3900              40  United-States       0  \n",
      "4             0          3900              40  United-States       0  \n",
      "5             0          3770              45  United-States       0  \n"
     ]
    }
   ],
   "source": [
    "df.drop(labels=[\"workclass\",\"occupation\"], axis = 1, inplace = True)\n",
    "print('Dataset with Dropped Labels')\n",
    "print(df.head())"
   ]
  },
  {
   "cell_type": "code",
   "execution_count": 15,
   "metadata": {
    "colab": {
     "base_uri": "https://localhost:8080/"
    },
    "id": "dv3EZN77GSP3",
    "outputId": "5075354b-f0e1-46e4-d466-10b7c219b55e"
   },
   "outputs": [
    {
     "name": "stdout",
     "output_type": "stream",
     "text": [
      "[NumericColumn(key='age', shape=(1,), default_value=None, dtype=tf.float32, normalizer_fn=None), NumericColumn(key='fnlwgt', shape=(1,), default_value=None, dtype=tf.float32, normalizer_fn=None), NumericColumn(key='education.num', shape=(1,), default_value=None, dtype=tf.float32, normalizer_fn=None), NumericColumn(key='capital.gain', shape=(1,), default_value=None, dtype=tf.float32, normalizer_fn=None), NumericColumn(key='capital.loss', shape=(1,), default_value=None, dtype=tf.float32, normalizer_fn=None), NumericColumn(key='hours.per.week', shape=(1,), default_value=None, dtype=tf.float32, normalizer_fn=None), NumericColumn(key='marital.status', shape=(1,), default_value=None, dtype=tf.float32, normalizer_fn=None), IndicatorColumn(categorical_column=VocabularyListCategoricalColumn(key='education', vocabulary_list=('HS-grad', '7th-8th', 'Some-college', '10th', 'Doctorate', 'Prof-school', 'Bachelors', 'Masters', '11th', 'Assoc-acdm', 'Assoc-voc', '1st-4th', '5th-6th', '12th', '9th', 'Preschool'), dtype=tf.string, default_value=-1, num_oov_buckets=0)), IndicatorColumn(categorical_column=VocabularyListCategoricalColumn(key='relationship', vocabulary_list=('Not-in-family', 'Unmarried', 'Own-child', 'Other-relative', 'Husband', 'Wife'), dtype=tf.string, default_value=-1, num_oov_buckets=0)), IndicatorColumn(categorical_column=VocabularyListCategoricalColumn(key='native.country', vocabulary_list=('United-States', '?', 'Mexico', 'Greece', 'Vietnam', 'China', 'Taiwan', 'India', 'Philippines', 'Trinadad&Tobago', 'Canada', 'South', 'Holand-Netherlands', 'Puerto-Rico', 'Poland', 'Iran', 'England', 'Germany', 'Italy', 'Japan', 'Hong', 'Honduras', 'Cuba', 'Ireland', 'Cambodia', 'Peru', 'Nicaragua', 'Dominican-Republic', 'Haiti', 'El-Salvador', 'Hungary', 'Columbia', 'Guatemala', 'Jamaica', 'Ecuador', 'France', 'Yugoslavia', 'Scotland', 'Portugal', 'Laos', 'Thailand', 'Outlying-US(Guam-USVI-etc)'), dtype=tf.string, default_value=-1, num_oov_buckets=0))]\n"
     ]
    }
   ],
   "source": [
    "for feature in cat_features:\n",
    "    l = df[feature].unique()\n",
    "#     print(l)\n",
    "    f = feature_column.categorical_column_with_vocabulary_list(feature,l)\n",
    "    one_hot = feature_column.indicator_column(f)\n",
    "    feature_columns.append(one_hot)\n",
    "    \n",
    "print(feature_columns)"
   ]
  },
  {
   "cell_type": "code",
   "execution_count": 16,
   "metadata": {
    "id": "v3jGw_qzGTql"
   },
   "outputs": [],
   "source": [
    "def df_to_dataset(dataframe, shuffle=True, batch_size=32):\n",
    "  dataframe = dataframe.copy()\n",
    "  labels = dataframe.pop('income')\n",
    "  ds = tf.data.Dataset.from_tensor_slices((dict(dataframe), labels))\n",
    "  if shuffle:\n",
    "    ds = ds.shuffle(buffer_size=len(dataframe))\n",
    "  ds = ds.batch(batch_size)\n",
    "  return ds"
   ]
  },
  {
   "cell_type": "code",
   "execution_count": 17,
   "metadata": {
    "id": "q3dTQAMVGVIF"
   },
   "outputs": [],
   "source": [
    "batch_size = 32\n",
    "\n",
    "train_ds = df_to_dataset(train, batch_size=batch_size)\n",
    "val_ds = df_to_dataset(val, shuffle=False, batch_size=batch_size)\n",
    "test_ds = df_to_dataset(test, shuffle=False, batch_size=batch_size)"
   ]
  },
  {
   "cell_type": "code",
   "execution_count": 18,
   "metadata": {
    "colab": {
     "base_uri": "https://localhost:8080/"
    },
    "id": "q1XkTdTWXOuJ",
    "outputId": "4a67685d-2212-4298-ef93-c203dec7e93d"
   },
   "outputs": [
    {
     "data": {
      "text/plain": [
       "<BatchDataset element_spec=({'age': TensorSpec(shape=(None,), dtype=tf.int64, name=None), 'workclass': TensorSpec(shape=(None,), dtype=tf.string, name=None), 'fnlwgt': TensorSpec(shape=(None,), dtype=tf.float64, name=None), 'education': TensorSpec(shape=(None,), dtype=tf.string, name=None), 'education.num': TensorSpec(shape=(None,), dtype=tf.int64, name=None), 'marital.status': TensorSpec(shape=(None,), dtype=tf.int32, name=None), 'occupation': TensorSpec(shape=(None,), dtype=tf.string, name=None), 'relationship': TensorSpec(shape=(None,), dtype=tf.string, name=None), 'capital.gain': TensorSpec(shape=(None,), dtype=tf.int64, name=None), 'capital.loss': TensorSpec(shape=(None,), dtype=tf.int64, name=None), 'hours.per.week': TensorSpec(shape=(None,), dtype=tf.int64, name=None), 'native.country': TensorSpec(shape=(None,), dtype=tf.string, name=None)}, TensorSpec(shape=(None,), dtype=tf.int64, name=None))>"
      ]
     },
     "execution_count": 18,
     "metadata": {},
     "output_type": "execute_result"
    }
   ],
   "source": [
    "train_ds"
   ]
  },
  {
   "cell_type": "code",
   "execution_count": 19,
   "metadata": {
    "id": "BVCR62T3GXxE"
   },
   "outputs": [],
   "source": [
    "feature_layer = tf.keras.layers.DenseFeatures(feature_columns)"
   ]
  },
  {
   "cell_type": "code",
   "execution_count": 20,
   "metadata": {
    "colab": {
     "base_uri": "https://localhost:8080/"
    },
    "id": "lxwe9AjVX3I5",
    "outputId": "48d44a41-34fe-49de-9099-26d4fa02b87c"
   },
   "outputs": [
    {
     "data": {
      "text/plain": [
       "<keras.feature_column.dense_features_v2.DenseFeatures at 0x25e2be4d250>"
      ]
     },
     "execution_count": 20,
     "metadata": {},
     "output_type": "execute_result"
    }
   ],
   "source": [
    "feature_layer"
   ]
  },
  {
   "cell_type": "code",
   "execution_count": 21,
   "metadata": {
    "colab": {
     "base_uri": "https://localhost:8080/"
    },
    "id": "FCIp9JBcX2xJ",
    "outputId": "300f222a-ec44-42f7-ee76-ce3714479295"
   },
   "outputs": [
    {
     "data": {
      "text/plain": [
       "[NumericColumn(key='age', shape=(1,), default_value=None, dtype=tf.float32, normalizer_fn=None),\n",
       " NumericColumn(key='fnlwgt', shape=(1,), default_value=None, dtype=tf.float32, normalizer_fn=None),\n",
       " NumericColumn(key='education.num', shape=(1,), default_value=None, dtype=tf.float32, normalizer_fn=None),\n",
       " NumericColumn(key='capital.gain', shape=(1,), default_value=None, dtype=tf.float32, normalizer_fn=None),\n",
       " NumericColumn(key='capital.loss', shape=(1,), default_value=None, dtype=tf.float32, normalizer_fn=None),\n",
       " NumericColumn(key='hours.per.week', shape=(1,), default_value=None, dtype=tf.float32, normalizer_fn=None),\n",
       " NumericColumn(key='marital.status', shape=(1,), default_value=None, dtype=tf.float32, normalizer_fn=None),\n",
       " IndicatorColumn(categorical_column=VocabularyListCategoricalColumn(key='education', vocabulary_list=('HS-grad', '7th-8th', 'Some-college', '10th', 'Doctorate', 'Prof-school', 'Bachelors', 'Masters', '11th', 'Assoc-acdm', 'Assoc-voc', '1st-4th', '5th-6th', '12th', '9th', 'Preschool'), dtype=tf.string, default_value=-1, num_oov_buckets=0)),\n",
       " IndicatorColumn(categorical_column=VocabularyListCategoricalColumn(key='relationship', vocabulary_list=('Not-in-family', 'Unmarried', 'Own-child', 'Other-relative', 'Husband', 'Wife'), dtype=tf.string, default_value=-1, num_oov_buckets=0)),\n",
       " IndicatorColumn(categorical_column=VocabularyListCategoricalColumn(key='native.country', vocabulary_list=('United-States', '?', 'Mexico', 'Greece', 'Vietnam', 'China', 'Taiwan', 'India', 'Philippines', 'Trinadad&Tobago', 'Canada', 'South', 'Holand-Netherlands', 'Puerto-Rico', 'Poland', 'Iran', 'England', 'Germany', 'Italy', 'Japan', 'Hong', 'Honduras', 'Cuba', 'Ireland', 'Cambodia', 'Peru', 'Nicaragua', 'Dominican-Republic', 'Haiti', 'El-Salvador', 'Hungary', 'Columbia', 'Guatemala', 'Jamaica', 'Ecuador', 'France', 'Yugoslavia', 'Scotland', 'Portugal', 'Laos', 'Thailand', 'Outlying-US(Guam-USVI-etc)'), dtype=tf.string, default_value=-1, num_oov_buckets=0))]"
      ]
     },
     "execution_count": 21,
     "metadata": {},
     "output_type": "execute_result"
    }
   ],
   "source": [
    "feature_columns"
   ]
  },
  {
   "cell_type": "code",
   "execution_count": 22,
   "metadata": {
    "colab": {
     "base_uri": "https://localhost:8080/",
     "height": 1000
    },
    "id": "DVEbhe4vPyNI",
    "outputId": "cccd8037-cd07-4ed3-a44c-a55a9fc4c26f"
   },
   "outputs": [
    {
     "name": "stdout",
     "output_type": "stream",
     "text": [
      "Epoch 1/25\n",
      "WARNING:tensorflow:Layers in a Sequential model should only have a single input tensor. Received: inputs={'age': <tf.Tensor 'IteratorGetNext:0' shape=(None,) dtype=int64>, 'workclass': <tf.Tensor 'IteratorGetNext:11' shape=(None,) dtype=string>, 'fnlwgt': <tf.Tensor 'IteratorGetNext:5' shape=(None,) dtype=float64>, 'education': <tf.Tensor 'IteratorGetNext:3' shape=(None,) dtype=string>, 'education.num': <tf.Tensor 'IteratorGetNext:4' shape=(None,) dtype=int64>, 'marital.status': <tf.Tensor 'IteratorGetNext:7' shape=(None,) dtype=int32>, 'occupation': <tf.Tensor 'IteratorGetNext:9' shape=(None,) dtype=string>, 'relationship': <tf.Tensor 'IteratorGetNext:10' shape=(None,) dtype=string>, 'capital.gain': <tf.Tensor 'IteratorGetNext:1' shape=(None,) dtype=int64>, 'capital.loss': <tf.Tensor 'IteratorGetNext:2' shape=(None,) dtype=int64>, 'hours.per.week': <tf.Tensor 'IteratorGetNext:6' shape=(None,) dtype=int64>, 'native.country': <tf.Tensor 'IteratorGetNext:8' shape=(None,) dtype=string>}. Consider rewriting this model with the Functional API.\n",
      "WARNING:tensorflow:Layers in a Sequential model should only have a single input tensor. Received: inputs={'age': <tf.Tensor 'IteratorGetNext:0' shape=(None,) dtype=int64>, 'workclass': <tf.Tensor 'IteratorGetNext:11' shape=(None,) dtype=string>, 'fnlwgt': <tf.Tensor 'IteratorGetNext:5' shape=(None,) dtype=float64>, 'education': <tf.Tensor 'IteratorGetNext:3' shape=(None,) dtype=string>, 'education.num': <tf.Tensor 'IteratorGetNext:4' shape=(None,) dtype=int64>, 'marital.status': <tf.Tensor 'IteratorGetNext:7' shape=(None,) dtype=int32>, 'occupation': <tf.Tensor 'IteratorGetNext:9' shape=(None,) dtype=string>, 'relationship': <tf.Tensor 'IteratorGetNext:10' shape=(None,) dtype=string>, 'capital.gain': <tf.Tensor 'IteratorGetNext:1' shape=(None,) dtype=int64>, 'capital.loss': <tf.Tensor 'IteratorGetNext:2' shape=(None,) dtype=int64>, 'hours.per.week': <tf.Tensor 'IteratorGetNext:6' shape=(None,) dtype=int64>, 'native.country': <tf.Tensor 'IteratorGetNext:8' shape=(None,) dtype=string>}. Consider rewriting this model with the Functional API.\n",
      "637/652 [============================>.] - ETA: 0s - loss: 376.2766 - accuracy: 0.6651WARNING:tensorflow:Layers in a Sequential model should only have a single input tensor. Received: inputs={'age': <tf.Tensor 'IteratorGetNext:0' shape=(None,) dtype=int64>, 'workclass': <tf.Tensor 'IteratorGetNext:11' shape=(None,) dtype=string>, 'fnlwgt': <tf.Tensor 'IteratorGetNext:5' shape=(None,) dtype=float64>, 'education': <tf.Tensor 'IteratorGetNext:3' shape=(None,) dtype=string>, 'education.num': <tf.Tensor 'IteratorGetNext:4' shape=(None,) dtype=int64>, 'marital.status': <tf.Tensor 'IteratorGetNext:7' shape=(None,) dtype=int32>, 'occupation': <tf.Tensor 'IteratorGetNext:9' shape=(None,) dtype=string>, 'relationship': <tf.Tensor 'IteratorGetNext:10' shape=(None,) dtype=string>, 'capital.gain': <tf.Tensor 'IteratorGetNext:1' shape=(None,) dtype=int64>, 'capital.loss': <tf.Tensor 'IteratorGetNext:2' shape=(None,) dtype=int64>, 'hours.per.week': <tf.Tensor 'IteratorGetNext:6' shape=(None,) dtype=int64>, 'native.country': <tf.Tensor 'IteratorGetNext:8' shape=(None,) dtype=string>}. Consider rewriting this model with the Functional API.\n",
      "652/652 [==============================] - 3s 3ms/step - loss: 372.8708 - accuracy: 0.6652 - val_loss: 11.5757 - val_accuracy: 0.8081\n",
      "Epoch 2/25\n",
      "652/652 [==============================] - 2s 3ms/step - loss: 94.5413 - accuracy: 0.6749 - val_loss: 7.4304 - val_accuracy: 0.1919\n",
      "Epoch 3/25\n",
      "652/652 [==============================] - 2s 3ms/step - loss: 20.3036 - accuracy: 0.6835 - val_loss: 14.0337 - val_accuracy: 0.1919\n",
      "Epoch 4/25\n",
      "652/652 [==============================] - 2s 3ms/step - loss: 3.3043 - accuracy: 0.7205 - val_loss: 0.4987 - val_accuracy: 0.8081\n",
      "Epoch 5/25\n",
      "652/652 [==============================] - 2s 3ms/step - loss: 0.8867 - accuracy: 0.7817 - val_loss: 0.4898 - val_accuracy: 0.8081\n",
      "Epoch 6/25\n",
      "652/652 [==============================] - 2s 3ms/step - loss: 0.7203 - accuracy: 0.7827 - val_loss: 0.4898 - val_accuracy: 0.8081\n",
      "Epoch 7/25\n",
      "652/652 [==============================] - 2s 2ms/step - loss: 0.5904 - accuracy: 0.7834 - val_loss: 0.4896 - val_accuracy: 0.8081\n",
      "Epoch 8/25\n",
      "652/652 [==============================] - 2s 3ms/step - loss: 0.5888 - accuracy: 0.7829 - val_loss: 0.4891 - val_accuracy: 0.8081\n",
      "Epoch 9/25\n",
      "652/652 [==============================] - 2s 3ms/step - loss: 0.6026 - accuracy: 0.7813 - val_loss: 0.4919 - val_accuracy: 0.8081\n",
      "Epoch 10/25\n",
      "652/652 [==============================] - 2s 3ms/step - loss: 0.5779 - accuracy: 0.7701 - val_loss: 0.4924 - val_accuracy: 0.8081\n",
      "Epoch 11/25\n",
      "652/652 [==============================] - 2s 3ms/step - loss: 0.5505 - accuracy: 0.7695 - val_loss: 0.4990 - val_accuracy: 0.8081\n",
      "Epoch 12/25\n",
      "652/652 [==============================] - 2s 3ms/step - loss: 0.5702 - accuracy: 0.7636 - val_loss: 0.4997 - val_accuracy: 0.8081\n",
      "Epoch 13/25\n",
      "652/652 [==============================] - 2s 3ms/step - loss: 0.5786 - accuracy: 0.7608 - val_loss: 0.4964 - val_accuracy: 0.8081\n",
      "Epoch 14/25\n",
      "652/652 [==============================] - 2s 3ms/step - loss: 0.5953 - accuracy: 0.7487 - val_loss: 0.5019 - val_accuracy: 0.8081\n",
      "Epoch 15/25\n",
      "652/652 [==============================] - 2s 3ms/step - loss: 0.5998 - accuracy: 0.7439 - val_loss: 0.5017 - val_accuracy: 0.8081\n",
      "Epoch 16/25\n",
      "652/652 [==============================] - 2s 3ms/step - loss: 0.5925 - accuracy: 0.7466 - val_loss: 0.5009 - val_accuracy: 0.8081\n",
      "Epoch 17/25\n",
      "652/652 [==============================] - 2s 3ms/step - loss: 0.5779 - accuracy: 0.7410 - val_loss: 0.4976 - val_accuracy: 0.8081\n",
      "Epoch 18/25\n",
      "652/652 [==============================] - 2s 3ms/step - loss: 0.5762 - accuracy: 0.7459 - val_loss: 0.5017 - val_accuracy: 0.8081\n",
      "Epoch 19/25\n",
      "652/652 [==============================] - 2s 3ms/step - loss: 0.6112 - accuracy: 0.7428 - val_loss: 0.5049 - val_accuracy: 0.8081\n",
      "Epoch 20/25\n",
      "652/652 [==============================] - 2s 3ms/step - loss: 0.5735 - accuracy: 0.7404 - val_loss: 0.5108 - val_accuracy: 0.8081\n",
      "Epoch 21/25\n",
      "652/652 [==============================] - 2s 3ms/step - loss: 0.5745 - accuracy: 0.7408 - val_loss: 0.5067 - val_accuracy: 0.8081\n",
      "Epoch 22/25\n",
      "652/652 [==============================] - 2s 3ms/step - loss: 0.5775 - accuracy: 0.7398 - val_loss: 0.5024 - val_accuracy: 0.8081\n",
      "Epoch 23/25\n",
      "652/652 [==============================] - 2s 3ms/step - loss: 0.5739 - accuracy: 0.7391 - val_loss: 0.4990 - val_accuracy: 0.8081\n",
      "Epoch 24/25\n",
      "652/652 [==============================] - 2s 3ms/step - loss: 0.6108 - accuracy: 0.7377 - val_loss: 0.4992 - val_accuracy: 0.8081\n",
      "Epoch 25/25\n",
      "652/652 [==============================] - 2s 3ms/step - loss: 0.5734 - accuracy: 0.7384 - val_loss: 0.5060 - val_accuracy: 0.8081\n"
     ]
    },
    {
     "data": {
      "image/png": "[encoded data removed]",
      "text/plain": [
       "<Figure size 432x288 with 1 Axes>"
      ]
     },
     "metadata": {
      "needs_background": "light"
     },
     "output_type": "display_data"
    },
    {
     "data": {
      "image/png": "[encoded data removed]",
      "text/plain": [
       "<Figure size 432x288 with 1 Axes>"
      ]
     },
     "metadata": {
      "needs_background": "light"
     },
     "output_type": "display_data"
    }
   ],
   "source": [
    "import matplotlib.pyplot as plt\n",
    "model = tf.keras.Sequential([\n",
    "  feature_layer,\n",
    "  layers.Dense(128, activation='relu'),\n",
    "  layers.Dropout(.2),\n",
    "  layers.Dense(256, activation='relu'),\n",
    "  layers.Dense(1)\n",
    "])\n",
    "model.compile(optimizer='adam',\n",
    "              loss=tf.keras.losses.BinaryCrossentropy(from_logits=True),\n",
    "              metrics=['accuracy'])\n",
    "\n",
    "\n",
    "history=model.fit(train_ds,\n",
    "          validation_data=val_ds,\n",
    "          epochs=25)\n",
    "plt.plot(history.history['accuracy'])\n",
    "plt.plot(history.history['val_accuracy'])\n",
    "plt.title('model accuracy')\n",
    "plt.ylabel('accuracy')\n",
    "plt.xlabel('epoch')\n",
    "plt.legend(['train', 'test'], loc='upper left')\n",
    "plt.show()\n",
    "# summarize history for loss\n",
    "plt.plot(history.history['loss'])\n",
    "plt.plot(history.history['val_loss'])\n",
    "plt.title('model loss')\n",
    "plt.ylabel('loss')\n",
    "plt.xlabel('epoch')\n",
    "plt.legend(['train', 'test'], loc='upper left')\n",
    "plt.show()"
   ]
  },
  {
   "cell_type": "code",
   "execution_count": 23,
   "metadata": {
    "colab": {
     "base_uri": "https://localhost:8080/"
    },
    "id": "6DIpQFl4HXCL",
    "outputId": "b94db2a4-a3e5-43bf-97d0-21e3779ffe00"
   },
   "outputs": [
    {
     "name": "stdout",
     "output_type": "stream",
     "text": [
      "204/204 [==============================] - 0s 1ms/step - loss: 0.5062 - accuracy: 0.8079\n",
      "Accuracy 0.8078930974006653\n"
     ]
    }
   ],
   "source": [
    "loss, accuracy = model.evaluate(test_ds)\n",
    "print(\"Accuracy\", accuracy)"
   ]
  },
  {
   "cell_type": "code",
   "execution_count": null,
   "metadata": {
    "id": "JosOPh-6GY4_"
   },
   "outputs": [],
   "source": []
  },
  {
   "cell_type": "code",
   "execution_count": null,
   "metadata": {
    "id": "Tl363ROrGaSX"
   },
   "outputs": [],
   "source": []
  },
  {
   "cell_type": "code",
   "execution_count": null,
   "metadata": {
    "id": "UoKPPn0NGcd5"
   },
   "outputs": [],
   "source": []
  },
  {
   "cell_type": "code",
   "execution_count": null,
   "metadata": {
    "id": "2JrZuCbzHVKJ"
   },
   "outputs": [],
   "source": []
  },
  {
   "cell_type": "code",
   "execution_count": null,
   "metadata": {
    "id": "X-VclfSDHeIc"
   },
   "outputs": [],
   "source": []
  },
  {
   "cell_type": "code",
   "execution_count": null,
   "metadata": {
    "id": "GuEwLmx4IAoB"
   },
   "outputs": [],
   "source": []
  }
 ],
 "metadata": {
  "colab": {
   "collapsed_sections": [],
   "name": "assingment-3.ipynb",
   "provenance": []
  },
  "kernelspec": {
   "display_name": "Python 3",
   "language": "python",
   "name": "python3"
  },
  "language_info": {
   "codemirror_mode": {
    "name": "ipython",
    "version": 3
   },
   "file_extension": ".py",
   "mimetype": "text/x-python",
   "name": "python",
   "nbconvert_exporter": "python",
   "pygments_lexer": "ipython3",
   "version": "3.8.5"
  }
 },
 "nbformat": 4,
 "nbformat_minor": 1
}
